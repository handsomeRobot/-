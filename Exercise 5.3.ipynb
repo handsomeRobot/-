{
 "cells": [
  {
   "cell_type": "code",
   "execution_count": 1,
   "metadata": {},
   "outputs": [],
   "source": [
    "#coding=utf-8"
   ]
  },
  {
   "cell_type": "code",
   "execution_count": 2,
   "metadata": {},
   "outputs": [],
   "source": [
    "import pandas as pd\n",
    "import numpy as np\n",
    "import matplotlib.pyplot as plt"
   ]
  },
  {
   "cell_type": "code",
   "execution_count": 3,
   "metadata": {},
   "outputs": [
    {
     "data": {
      "text/html": [
       "<div>\n",
       "<style scoped>\n",
       "    .dataframe tbody tr th:only-of-type {\n",
       "        vertical-align: middle;\n",
       "    }\n",
       "\n",
       "    .dataframe tbody tr th {\n",
       "        vertical-align: top;\n",
       "    }\n",
       "\n",
       "    .dataframe thead th {\n",
       "        text-align: right;\n",
       "    }\n",
       "</style>\n",
       "<table border=\"1\" class=\"dataframe\">\n",
       "  <thead>\n",
       "    <tr style=\"text-align: right;\">\n",
       "      <th></th>\n",
       "      <th>x</th>\n",
       "      <th>y</th>\n",
       "    </tr>\n",
       "  </thead>\n",
       "  <tbody>\n",
       "    <tr>\n",
       "      <th>0</th>\n",
       "      <td>1</td>\n",
       "      <td>4.50</td>\n",
       "    </tr>\n",
       "    <tr>\n",
       "      <th>1</th>\n",
       "      <td>2</td>\n",
       "      <td>4.75</td>\n",
       "    </tr>\n",
       "    <tr>\n",
       "      <th>2</th>\n",
       "      <td>3</td>\n",
       "      <td>4.91</td>\n",
       "    </tr>\n",
       "    <tr>\n",
       "      <th>3</th>\n",
       "      <td>4</td>\n",
       "      <td>5.34</td>\n",
       "    </tr>\n",
       "    <tr>\n",
       "      <th>4</th>\n",
       "      <td>5</td>\n",
       "      <td>5.80</td>\n",
       "    </tr>\n",
       "    <tr>\n",
       "      <th>5</th>\n",
       "      <td>6</td>\n",
       "      <td>7.05</td>\n",
       "    </tr>\n",
       "    <tr>\n",
       "      <th>6</th>\n",
       "      <td>7</td>\n",
       "      <td>7.90</td>\n",
       "    </tr>\n",
       "    <tr>\n",
       "      <th>7</th>\n",
       "      <td>8</td>\n",
       "      <td>8.23</td>\n",
       "    </tr>\n",
       "    <tr>\n",
       "      <th>8</th>\n",
       "      <td>9</td>\n",
       "      <td>8.70</td>\n",
       "    </tr>\n",
       "    <tr>\n",
       "      <th>9</th>\n",
       "      <td>10</td>\n",
       "      <td>9.00</td>\n",
       "    </tr>\n",
       "  </tbody>\n",
       "</table>\n",
       "</div>"
      ],
      "text/plain": [
       "    x     y\n",
       "0   1  4.50\n",
       "1   2  4.75\n",
       "2   3  4.91\n",
       "3   4  5.34\n",
       "4   5  5.80\n",
       "5   6  7.05\n",
       "6   7  7.90\n",
       "7   8  8.23\n",
       "8   9  8.70\n",
       "9  10  9.00"
      ]
     },
     "execution_count": 3,
     "metadata": {},
     "output_type": "execute_result"
    }
   ],
   "source": [
    "data = pd.DataFrame({\"x\": range(11)[1:], \"y\": [4.5, 4.75, 4.91, 5.34, 5.8, 7.05, 7.9\n",
    "                                              , 8.23, 8.7, 9]})\n",
    "data"
   ]
  },
  {
   "cell_type": "code",
   "execution_count": 4,
   "metadata": {},
   "outputs": [],
   "source": [
    "#given data frame and x0, calculate the cost and labels\n",
    "def cost(df, x0):\n",
    "    df_sub1 = df[df.x <= x0]\n",
    "    df_sub2 = df[df.x > x0]\n",
    "    cost_sub1 = 0\n",
    "    cost_sub2 = 0\n",
    "    for i in df_sub1.y:\n",
    "        cost_sub1 += (i - df_sub1.y.mean()) ** 2\n",
    "    for i in df_sub2.y:\n",
    "        cost_sub2 += (i - df_sub2.y.mean()) ** 2\n",
    "    return [x0, cost_sub1 + cost_sub2, df_sub1.y.mean(), df_sub2.y.mean()]"
   ]
  },
  {
   "cell_type": "code",
   "execution_count": 5,
   "metadata": {},
   "outputs": [],
   "source": [
    "#given data frame, calculate x0 and cost and labels\n",
    "def cut(data):\n",
    "    for n, i in enumerate(data.x):\n",
    "        if n == 0:\n",
    "            [x0, cost_min, y1, y2] = cost(data, i)\n",
    "        elif n > 0:\n",
    "            if cost(data, i)[1] < cost_min:\n",
    "                [x0, cost_min, y1, y2] = cost(data, i)\n",
    "    return [x0, cost_min, y1, y2]"
   ]
  },
  {
   "cell_type": "code",
   "execution_count": 6,
   "metadata": {},
   "outputs": [],
   "source": [
    "#given x, predict its value based on the model built\n",
    "def predict(x, data, cuts_x):\n",
    "    for n, i in enumerate(cuts_x):\n",
    "        if n < len(cuts_x) - 1:\n",
    "            if x > i and x <= cuts_x[n + 1]:\n",
    "                data_sub = data[(data.x > i) & (data.x <= cuts_x[n + 1])]\n",
    "                return data_sub.y.mean()\n",
    "            elif x <= i:\n",
    "                data_sub = data[data.x <= i]\n",
    "                return data_sub.y.mean()\n",
    "        elif n == len(cuts_x) - 1:\n",
    "            if x > i:\n",
    "                data_sub = data[data.x > i]\n",
    "                return data_sub.y.mean()"
   ]
  },
  {
   "cell_type": "code",
   "execution_count": 11,
   "metadata": {},
   "outputs": [
    {
     "name": "stdout",
     "output_type": "stream",
     "text": [
      "Total cost:  0.853716666667\n",
      "\n",
      "\n",
      "cuts information: \n",
      "[cut_x, subset_cost, subset1_y_average, subset2_y_average]\n",
      "[[5, 3.358719999999999, 5.0600000000000005, 8.1759999999999984]]\n",
      "[[3, 0.19120000000000004, 4.7199999999999998, 5.5700000000000003], [7, 0.66251666666666664, 7.4749999999999996, 8.6433333333333326]]\n",
      "\n",
      "\n",
      "divide points: \n",
      "[3, 5, 7]\n"
     ]
    }
   ],
   "source": [
    "#main flow\n",
    "critia = 2 #the maximum limit for cost\n",
    "cost_alpha = cost(data, data.x.max)\n",
    "cost_belta = cost_alpha\n",
    "cuts = []\n",
    "cuts_x = []\n",
    "data_subs = [data]\n",
    "while cost_belta >= 1:\n",
    "    cuts.append([])\n",
    "    cost_belta = 0\n",
    "    data_subs_new = []\n",
    "    for n, i in enumerate(data_subs):\n",
    "        cuts[-1].append(cut(i))\n",
    "        cost_belta += cut(i)[1]\n",
    "        cuts_x.append(cut(i)[0])\n",
    "        data_subs_new.append(i[i.x <= cut(i)[0]])\n",
    "        data_subs_new.append(i[i.x > cut(i)[0]])\n",
    "    data_subs = data_subs_new\n",
    "cuts_x = list(set(cuts_x))\n",
    "print 'Total cost: ', cost_belta\n",
    "print '\\n'\n",
    "print 'cuts information: '\n",
    "print '[cut_x, subset_cost, subset1_y_average, subset2_y_average]'\n",
    "for c in cuts:\n",
    "    print c\n",
    "print '\\n'\n",
    "print 'divide points: '\n",
    "print cuts_x"
   ]
  },
  {
   "cell_type": "code",
   "execution_count": 13,
   "metadata": {},
   "outputs": [
    {
     "name": "stderr",
     "output_type": "stream",
     "text": [
      "/usr/local/lib/python2.7/dist-packages/ipykernel_launcher.py:3: SettingWithCopyWarning: \n",
      "A value is trying to be set on a copy of a slice from a DataFrame\n",
      "\n",
      "See the caveats in the documentation: http://pandas.pydata.org/pandas-docs/stable/indexing.html#indexing-view-versus-copy\n",
      "  This is separate from the ipykernel package so we can avoid doing imports until\n"
     ]
    },
    {
     "name": "stdout",
     "output_type": "stream",
     "text": [
      "blue: Train\n",
      "red: Fit\n"
     ]
    },
    {
     "data": {
      "image/png": "[encoded data removed]",
      "text/plain": [
       "<matplotlib.figure.Figure at 0x7f952ee439d0>"
      ]
     },
     "metadata": {},
     "output_type": "display_data"
    }
   ],
   "source": [
    "prediction = pd.DataFrame({\"x\": range(11)[1:], \"y\": [None] * 10})\n",
    "for n, i in enumerate(prediction.x):\n",
    "    prediction.y[n] = predict(i, data, cuts_x)\n",
    "prediction\n",
    "plt.scatter(data.x, data.y, label = 'train')\n",
    "plt.plot(prediction.x, prediction.y, label = 'fit')\n",
    "plt.xlabel(\"x\")\n",
    "plt.ylabel(\"y\")\n",
    "print 'blue: Train'\n",
    "print 'red: Fit'\n",
    "plt.show()"
   ]
  },
  {
   "cell_type": "code",
   "execution_count": null,
   "metadata": {},
   "outputs": [],
   "source": []
  },
  {
   "cell_type": "code",
   "execution_count": null,
   "metadata": {},
   "outputs": [],
   "source": []
  }
 ],
 "metadata": {
  "kernelspec": {
   "display_name": "Python 2",
   "language": "python",
   "name": "python2"
  },
  "language_info": {
   "codemirror_mode": {
    "name": "ipython",
    "version": 2
   },
   "file_extension": ".py",
   "mimetype": "text/x-python",
   "name": "python",
   "nbconvert_exporter": "python",
   "pygments_lexer": "ipython2",
   "version": "2.7.12"
  }
 },
 "nbformat": 4,
 "nbformat_minor": 2
}
